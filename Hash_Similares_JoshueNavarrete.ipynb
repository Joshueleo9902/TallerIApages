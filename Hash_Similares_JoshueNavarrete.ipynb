{
  "nbformat": 4,
  "nbformat_minor": 0,
  "metadata": {
    "colab": {
      "name": "Hash Similares_JoshueNavarrete.ipynb",
      "provenance": [],
      "collapsed_sections": [],
      "include_colab_link": true
    },
    "kernelspec": {
      "name": "python3",
      "display_name": "Python 3"
    },
    "language_info": {
      "name": "python"
    }
  },
  "cells": [
    {
      "cell_type": "markdown",
      "metadata": {
        "id": "view-in-github",
        "colab_type": "text"
      },
      "source": [
        "<a href=\"https://colab.research.google.com/github/Joshueleo9902/TallerIApages/blob/main/Hash_Similares_JoshueNavarrete.ipynb\" target=\"_parent\"><img src=\"https://colab.research.google.com/assets/colab-badge.svg\" alt=\"Open In Colab\"/></a>"
      ]
    },
    {
      "cell_type": "markdown",
      "metadata": {
        "id": "I8OylkqilkHL"
      },
      "source": [
        "#Joshue Navarrete Tomalá \n",
        "#Encontrar imágenes duplicadas , con distintas algoritmos de hash"
      ]
    },
    {
      "cell_type": "code",
      "metadata": {
        "colab": {
          "base_uri": "https://localhost:8080/",
          "height": 0
        },
        "id": "sAFofQ44RPQw",
        "outputId": "71fe6fd2-2a20-457f-d129-06bde3780ec7"
      },
      "source": [
        "pip install imagehash"
      ],
      "execution_count": 1,
      "outputs": [
        {
          "output_type": "stream",
          "name": "stdout",
          "text": [
            "Collecting imagehash\n",
            "  Downloading ImageHash-4.2.1.tar.gz (812 kB)\n",
            "\u001b[K     |████████████████████████████████| 812 kB 5.2 MB/s \n",
            "\u001b[?25hRequirement already satisfied: six in /usr/local/lib/python3.7/dist-packages (from imagehash) (1.15.0)\n",
            "Requirement already satisfied: numpy in /usr/local/lib/python3.7/dist-packages (from imagehash) (1.19.5)\n",
            "Requirement already satisfied: scipy in /usr/local/lib/python3.7/dist-packages (from imagehash) (1.4.1)\n",
            "Requirement already satisfied: pillow in /usr/local/lib/python3.7/dist-packages (from imagehash) (7.1.2)\n",
            "Requirement already satisfied: PyWavelets in /usr/local/lib/python3.7/dist-packages (from imagehash) (1.1.1)\n",
            "Building wheels for collected packages: imagehash\n",
            "  Building wheel for imagehash (setup.py) ... \u001b[?25l\u001b[?25hdone\n",
            "  Created wheel for imagehash: filename=ImageHash-4.2.1-py2.py3-none-any.whl size=295207 sha256=e3ed2857534a844fd86051836013e1a792bc379a944e88650b925a2b1b5fa5e7\n",
            "  Stored in directory: /root/.cache/pip/wheels/4c/d5/59/5e3e297533ddb09407769762985d134135064c6831e29a914e\n",
            "Successfully built imagehash\n",
            "Installing collected packages: imagehash\n",
            "Successfully installed imagehash-4.2.1\n"
          ]
        }
      ]
    },
    {
      "cell_type": "code",
      "metadata": {
        "id": "Ym8lR1rDQysl"
      },
      "source": [
        "\n",
        "#Librerias \n",
        "import numpy as np\n",
        "import pandas as pd\n",
        "import cv2  \n",
        "from google.colab.patches import cv2_imshow # for image display\n",
        "from skimage import io\n",
        "from PIL import Image \n",
        "import matplotlib.pylab as plt\n",
        "import imagehash"
      ],
      "execution_count": 2,
      "outputs": []
    },
    {
      "cell_type": "code",
      "metadata": {
        "id": "qCj9MmWhQoQy"
      },
      "source": [
        "images = ['https://i.ebayimg.com/images/g/vOUAAOSwVHle64yO/s-l1600.jpg',\n",
        "         'https://i.ebayimg.com/images/g/jN8AAOSwxMle64yY/s-l1600.jpg',\n",
        "         'https://i.ebayimg.com/images/g/3p8AAOSwk2Je64ym/s-l1600.jpg',\n",
        "         'https://i.ebayimg.com/images/g/qqYAAOSweNle64zN/s-l1600.jpg',\n",
        "         'https://i.ebayimg.com/images/g/cnkAAOSw~n9e64za/s-l1600.jpg',\n",
        "         'https://i.ebayimg.com/images/g/3p8AAOSwk2Je64ym/s-l64.jpg',\n",
        "         'https://i.ebayimg.com/images/g/qqYAAOSweNle64zN/s-l64.jpg']"
      ],
      "execution_count": 3,
      "outputs": []
    },
    {
      "cell_type": "code",
      "metadata": {
        "id": "NCjk5J_-Qvbc"
      },
      "source": [
        "df = pd.DataFrame(columns=['image','ahash','phash','dhash','whash','colorhash'])\n",
        "\n",
        "for url in images:\n",
        "    file =  Image.fromarray(io.imread(url))\n",
        "    data = {\n",
        "        'image': url,\n",
        "        'ahash': imagehash.average_hash(file),\n",
        "        'phash': imagehash.phash(file),\n",
        "        'dhash': imagehash.dhash(file),\n",
        "        'whash': imagehash.whash(file),\n",
        "        'colorhash': imagehash.colorhash(file),   \n",
        "    }\n",
        "    \n",
        "    df = df.append(data, ignore_index=True)"
      ],
      "execution_count": 4,
      "outputs": []
    },
    {
      "cell_type": "code",
      "metadata": {
        "id": "LpeUKGX4SH9F",
        "colab": {
          "base_uri": "https://localhost:8080/",
          "height": 264
        },
        "outputId": "5cb92d5b-8446-4e2b-e529-8fe69a63f409"
      },
      "source": [
        "df.head(10)"
      ],
      "execution_count": 5,
      "outputs": [
        {
          "output_type": "execute_result",
          "data": {
            "text/html": [
              "<div>\n",
              "<style scoped>\n",
              "    .dataframe tbody tr th:only-of-type {\n",
              "        vertical-align: middle;\n",
              "    }\n",
              "\n",
              "    .dataframe tbody tr th {\n",
              "        vertical-align: top;\n",
              "    }\n",
              "\n",
              "    .dataframe thead th {\n",
              "        text-align: right;\n",
              "    }\n",
              "</style>\n",
              "<table border=\"1\" class=\"dataframe\">\n",
              "  <thead>\n",
              "    <tr style=\"text-align: right;\">\n",
              "      <th></th>\n",
              "      <th>image</th>\n",
              "      <th>ahash</th>\n",
              "      <th>phash</th>\n",
              "      <th>dhash</th>\n",
              "      <th>whash</th>\n",
              "      <th>colorhash</th>\n",
              "    </tr>\n",
              "  </thead>\n",
              "  <tbody>\n",
              "    <tr>\n",
              "      <th>0</th>\n",
              "      <td>https://i.ebayimg.com/images/g/vOUAAOSwVHle64y...</td>\n",
              "      <td>333e9f8981c3c3e3</td>\n",
              "      <td>ac9ec7216b61b076</td>\n",
              "      <td>e7643c330f0f0f0f</td>\n",
              "      <td>033e9f9981c3c3e3</td>\n",
              "      <td>072c0040000</td>\n",
              "    </tr>\n",
              "    <tr>\n",
              "      <th>1</th>\n",
              "      <td>https://i.ebayimg.com/images/g/jN8AAOSwxMle64y...</td>\n",
              "      <td>0f0783ce0f8b8b05</td>\n",
              "      <td>ba052a9d13f87f21</td>\n",
              "      <td>fcef273c6a3b3359</td>\n",
              "      <td>0f17039f0f8f8f05</td>\n",
              "      <td>0e400008002</td>\n",
              "    </tr>\n",
              "    <tr>\n",
              "      <th>2</th>\n",
              "      <td>https://i.ebayimg.com/images/g/3p8AAOSwk2Je64y...</td>\n",
              "      <td>fe86c38181c1c3c7</td>\n",
              "      <td>f4959690dbc385a5</td>\n",
              "      <td>f436060337978f0e</td>\n",
              "      <td>fe86c381c1c1c3e7</td>\n",
              "      <td>06280040001</td>\n",
              "    </tr>\n",
              "    <tr>\n",
              "      <th>3</th>\n",
              "      <td>https://i.ebayimg.com/images/g/qqYAAOSweNle64z...</td>\n",
              "      <td>2700017303030f9f</td>\n",
              "      <td>af41943dc186ad3d</td>\n",
              "      <td>d6cac3c3c36f7f3f</td>\n",
              "      <td>7702037323838fbf</td>\n",
              "      <td>06080009000</td>\n",
              "    </tr>\n",
              "    <tr>\n",
              "      <th>4</th>\n",
              "      <td>https://i.ebayimg.com/images/g/cnkAAOSw~n9e64z...</td>\n",
              "      <td>78053f3f839383c3</td>\n",
              "      <td>add3406cd3cdcd21</td>\n",
              "      <td>c18d73721f27379e</td>\n",
              "      <td>380d3f3f839383c3</td>\n",
              "      <td>0e2c0001000</td>\n",
              "    </tr>\n",
              "    <tr>\n",
              "      <th>5</th>\n",
              "      <td>https://i.ebayimg.com/images/g/3p8AAOSwk2Je64y...</td>\n",
              "      <td>fe86c38181c1c3c7</td>\n",
              "      <td>f4959690dbc385a5</td>\n",
              "      <td>f436060337978f0e</td>\n",
              "      <td>fe86c381c1c1c3e7</td>\n",
              "      <td>06280080000</td>\n",
              "    </tr>\n",
              "    <tr>\n",
              "      <th>6</th>\n",
              "      <td>https://i.ebayimg.com/images/g/qqYAAOSweNle64z...</td>\n",
              "      <td>2700017303030f9f</td>\n",
              "      <td>af41943dc086ad7d</td>\n",
              "      <td>d6dac3c3d36f7f3f</td>\n",
              "      <td>3706037323838fbf</td>\n",
              "      <td>06280000000</td>\n",
              "    </tr>\n",
              "  </tbody>\n",
              "</table>\n",
              "</div>"
            ],
            "text/plain": [
              "                                               image  ...    colorhash\n",
              "0  https://i.ebayimg.com/images/g/vOUAAOSwVHle64y...  ...  072c0040000\n",
              "1  https://i.ebayimg.com/images/g/jN8AAOSwxMle64y...  ...  0e400008002\n",
              "2  https://i.ebayimg.com/images/g/3p8AAOSwk2Je64y...  ...  06280040001\n",
              "3  https://i.ebayimg.com/images/g/qqYAAOSweNle64z...  ...  06080009000\n",
              "4  https://i.ebayimg.com/images/g/cnkAAOSw~n9e64z...  ...  0e2c0001000\n",
              "5  https://i.ebayimg.com/images/g/3p8AAOSwk2Je64y...  ...  06280080000\n",
              "6  https://i.ebayimg.com/images/g/qqYAAOSweNle64z...  ...  06280000000\n",
              "\n",
              "[7 rows x 6 columns]"
            ]
          },
          "metadata": {},
          "execution_count": 5
        }
      ]
    },
    {
      "cell_type": "code",
      "metadata": {
        "id": "dWwLkK05Sf5v"
      },
      "source": [
        "# iamgenes duplicadas"
      ],
      "execution_count": null,
      "outputs": []
    },
    {
      "cell_type": "code",
      "metadata": {
        "id": "1Gbie0fpVzYJ",
        "colab": {
          "base_uri": "https://localhost:8080/",
          "height": 0
        },
        "outputId": "c8188e5a-ee9b-405e-8038-efe1de7890cd"
      },
      "source": [
        "df.ahash.duplicated()"
      ],
      "execution_count": 6,
      "outputs": [
        {
          "output_type": "execute_result",
          "data": {
            "text/plain": [
              "0    False\n",
              "1    False\n",
              "2    False\n",
              "3    False\n",
              "4    False\n",
              "5     True\n",
              "6     True\n",
              "Name: ahash, dtype: bool"
            ]
          },
          "metadata": {},
          "execution_count": 6
        }
      ]
    },
    {
      "cell_type": "code",
      "metadata": {
        "id": "jHXMMXmGWCnh",
        "colab": {
          "base_uri": "https://localhost:8080/",
          "height": 0
        },
        "outputId": "069285cc-4f96-4ab9-a4cd-fcc05a17de91"
      },
      "source": [
        "df.phash.duplicated()"
      ],
      "execution_count": 7,
      "outputs": [
        {
          "output_type": "execute_result",
          "data": {
            "text/plain": [
              "0    False\n",
              "1    False\n",
              "2    False\n",
              "3    False\n",
              "4    False\n",
              "5     True\n",
              "6    False\n",
              "Name: phash, dtype: bool"
            ]
          },
          "metadata": {},
          "execution_count": 7
        }
      ]
    },
    {
      "cell_type": "code",
      "metadata": {
        "colab": {
          "base_uri": "https://localhost:8080/",
          "height": 0
        },
        "id": "TKkYpvNtl8V3",
        "outputId": "622c8618-ff31-4d1d-9b29-99c33e3f8415"
      },
      "source": [
        "df.dhash.duplicated()"
      ],
      "execution_count": 8,
      "outputs": [
        {
          "output_type": "execute_result",
          "data": {
            "text/plain": [
              "0    False\n",
              "1    False\n",
              "2    False\n",
              "3    False\n",
              "4    False\n",
              "5     True\n",
              "6    False\n",
              "Name: dhash, dtype: bool"
            ]
          },
          "metadata": {},
          "execution_count": 8
        }
      ]
    },
    {
      "cell_type": "code",
      "metadata": {
        "id": "7MkIolx1WLwH",
        "colab": {
          "base_uri": "https://localhost:8080/",
          "height": 0
        },
        "outputId": "dc374905-0a97-4aba-d3da-27fc0113d9a6"
      },
      "source": [
        "df.whash.duplicated()"
      ],
      "execution_count": 11,
      "outputs": [
        {
          "output_type": "execute_result",
          "data": {
            "text/plain": [
              "0    False\n",
              "1    False\n",
              "2    False\n",
              "3    False\n",
              "4    False\n",
              "5     True\n",
              "6    False\n",
              "Name: whash, dtype: bool"
            ]
          },
          "metadata": {},
          "execution_count": 11
        }
      ]
    },
    {
      "cell_type": "code",
      "metadata": {
        "id": "8Ma8eXXUWMiv",
        "colab": {
          "base_uri": "https://localhost:8080/",
          "height": 0
        },
        "outputId": "b85ab397-47b2-4cc5-9bd3-33cf50c88991"
      },
      "source": [
        "df.colorhash.duplicated()"
      ],
      "execution_count": 12,
      "outputs": [
        {
          "output_type": "execute_result",
          "data": {
            "text/plain": [
              "0    False\n",
              "1    False\n",
              "2    False\n",
              "3    False\n",
              "4    False\n",
              "5    False\n",
              "6    False\n",
              "Name: colorhash, dtype: bool"
            ]
          },
          "metadata": {},
          "execution_count": 12
        }
      ]
    }
  ]
}